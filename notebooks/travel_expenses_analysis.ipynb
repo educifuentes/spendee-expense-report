{
 "cells": [
  {
   "cell_type": "markdown",
   "id": "8b63d330",
   "metadata": {},
   "source": [
    "# Viaje 2024\n",
    "\n",
    "Gastos y estadiistcias"
   ]
  },
  {
   "cell_type": "markdown",
   "id": "f5e6331d",
   "metadata": {},
   "source": [
    "Buscar responder\n",
    "\n",
    "- Cuanto gaste por mes en promedio?\n",
    "- Cuanot gaste en transporte? separando avion y otros medios\n",
    "- Cuanto gaste en comida?\n",
    "- Cual fue el mes mas barato y porque fue asi?\n",
    "- Cual fue el mas caro?\n",
    "- Que gastos pudieron haber sido evitados?\n",
    "- Cuanot gaste en total y como se fue distruiutendo eso mes a mes?"
   ]
  },
  {
   "cell_type": "markdown",
   "id": "eb5f5287",
   "metadata": {},
   "source": []
  }
 ],
 "metadata": {
  "language_info": {
   "name": "python"
  }
 },
 "nbformat": 4,
 "nbformat_minor": 5
}
