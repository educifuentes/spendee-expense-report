{
 "cells": [
  {
   "cell_type": "markdown",
   "id": "0f20196a",
   "metadata": {},
   "source": [
    "# Spendee Data"
   ]
  },
  {
   "cell_type": "code",
   "execution_count": null,
   "id": "42307f6e",
   "metadata": {
    "vscode": {
     "languageId": "plaintext"
    }
   },
   "outputs": [],
   "source": [
    "import pandas as pd\n",
    "import altair as alt\n",
    "\n",
    "df = pd.read_csv('../data/spendee_export.csv')\n",
    "\n",
    "# Explore categories, totals, and time ranges\n",
    "df.head()\n",
    "df['category'].value_counts()\n",
    "df['amount'].sum()"
   ]
  }
 ],
 "metadata": {
  "language_info": {
   "name": "python"
  }
 },
 "nbformat": 4,
 "nbformat_minor": 5
}
